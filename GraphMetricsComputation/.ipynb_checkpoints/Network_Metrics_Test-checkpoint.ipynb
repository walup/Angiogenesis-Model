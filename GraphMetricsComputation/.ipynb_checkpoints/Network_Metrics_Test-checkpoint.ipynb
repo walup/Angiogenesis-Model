{
 "cells": [
  {
   "cell_type": "code",
   "execution_count": 1,
   "id": "7a1c7816-70db-4482-8cfd-b6f1a8b19a3a",
   "metadata": {},
   "outputs": [],
   "source": [
    "import numpy as np\n",
    "from NetworkMetricCalculator import NetworkMetricCalculator\n",
    "import matplotlib.pyplot as plt"
   ]
  },
  {
   "cell_type": "code",
   "execution_count": 2,
   "id": "7818a958-5488-4cd9-a0fd-891552299c56",
   "metadata": {},
   "outputs": [],
   "source": [
    "networkMetric = NetworkMetricCalculator()"
   ]
  },
  {
   "cell_type": "code",
   "execution_count": 5,
   "id": "8b153d18-aca9-40d5-b02d-bed0501dc9db",
   "metadata": {},
   "outputs": [
    {
     "name": "stdout",
     "output_type": "stream",
     "text": [
      "1694\n",
      "1694\n"
     ]
    }
   ],
   "source": [
    "adjacencyMatrix = networkMetric.loadAdjacencyMatrix(\"red_vacular_ejemplo.csv\")"
   ]
  },
  {
   "cell_type": "code",
   "execution_count": null,
   "id": "a92fec4b-57a6-499e-9824-88966176f492",
   "metadata": {},
   "outputs": [],
   "source": []
  }
 ],
 "metadata": {
  "kernelspec": {
   "display_name": "Python 3 (ipykernel)",
   "language": "python",
   "name": "python3"
  },
  "language_info": {
   "codemirror_mode": {
    "name": "ipython",
    "version": 3
   },
   "file_extension": ".py",
   "mimetype": "text/x-python",
   "name": "python",
   "nbconvert_exporter": "python",
   "pygments_lexer": "ipython3",
   "version": "3.9.13"
  }
 },
 "nbformat": 4,
 "nbformat_minor": 5
}
