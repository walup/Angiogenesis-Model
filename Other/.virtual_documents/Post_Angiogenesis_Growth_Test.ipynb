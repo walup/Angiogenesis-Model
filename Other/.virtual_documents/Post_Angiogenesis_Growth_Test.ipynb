


from TumorModel import Tissue
import numpy as np
import matplotlib.pyplot as plt
from TumorModel import CellType
from TumorModel import TherapyType
from AngiogenesisModel import AngiogenesisModel










width = 150
height = 150

centerX = int(width/2)
centerY = int(width/2)

tissue = Tissue(width, height)

#Inicializamos el tejido
tissue.addProliferatingCell(centerX, centerY, False,0)
tissue.addProliferatingCell(centerX + 1,centerY, False,0)
tissue.addProliferatingCell(centerX - 1, centerY, False,0)
tissue.addProliferatingCell(centerX, centerY + 1, False,0)
tissue.addProliferatingCell(centerX, centerY - 1, False,0)

nSteps = 300
tissue.evolveWithMovieInitially(nSteps, True)


tumorSlices = tissue.evolutionMovie

proliferatingPositions = np.zeros((height, width))
finalSlice = tumorSlices[:,:,:,-1]
for i in range(0,height):
    for j in range(0,width):
        if((finalSlice[i,j,:] == CellType.PROLIFERATING.value).all()):
            proliferatingPositions[i,j] = 1

angiogenesisModel = AngiogenesisModel(width, height)
angiogenesisModel.setInitialConcentrations(proliferatingPositions)
tipCellLocations = np.zeros((height, width))
for i in range(1, width - 1):
    if(i%10 == 0):
        tipCellLocations[1,i] = 1
        tipCellLocations[height-2,i] = 1
        tipCellLocations[i,1] = 1
        tipCellLocations[i, width-2] = 1

angiogenesisModel.setTipCells(tipCellLocations)

plt.figure()
plt.imshow(angiogenesisModel.cInitial)



nSteps = 100
angiogenesisModel.evolveSystem(nSteps)


plt.figure()
plt.imshow(angiogenesisModel.getPicture(tipCellLocations, proliferatingPositions, angiogenesisModel.occupiedCells))


#We set the angiogenesis cells as places where nutrient is constant and can diffuse to the tumor for further growth
tissue.initializeNutrientWithBloodVessels(angiogenesisModel.occupiedCells)


#We continue the evolution of the tissue for 300 more steps

tissue.continueTissueEvolutionWithMovie(300, True)


nSnapshots = 6
tumorSlices = tissue.evolutionMovie
nSlices = np.size(tumorSlices, 3)
whiteSlices = np.ones((np.size(tumorSlices,0), np.size(tumorSlices,1), np.size(tumorSlices, 2), np.size(tumorSlices,3)))

for i in range(0,np.size(tumorSlices,0)):
    for j in range(0,np.size(tumorSlices,1)):
        for k in range(0,nSlices):
            if((tumorSlices[i,j,:,k] != np.array([0,0,0])).all()):
                whiteSlices[i,j,:,k] = tumorSlices[i,j,:,k]

deltaSlices = np.floor(nSlices/(nSnapshots-1));
snapIndexes = []
for i in range(0,nSnapshots):
    index = i*deltaSlices
    snapIndexes.append(int(index))
    
fig = plt.figure(figsize = (11,8),constrained_layout=True)
subfigs = fig.subfigures(1, 2, wspace=0.07, width_ratios=[1, 1.4])

ax1 = subfigs[0].subplots(3,2)
ax1[0,0].imshow(whiteSlices[:,:,:,snapIndexes[0]])
ax1[0,0].set_title("Step = "+str(snapIndexes[0]))
ax1[0,1].imshow(whiteSlices[:,:,:,snapIndexes[1]])
ax1[0,1].set_title("Step = "+str(snapIndexes[1]))
ax1[1,0].imshow(whiteSlices[:,:,:,snapIndexes[2]])
ax1[1,0].set_title("Step = "+str(snapIndexes[2]))
ax1[1,1].imshow(whiteSlices[:,:,:,snapIndexes[3]])
ax1[1,1].set_title("Step = "+str(snapIndexes[3]))
ax1[2,0].imshow(whiteSlices[:,:,:,snapIndexes[4]])
ax1[2,0].set_title("Step = "+str(snapIndexes[4]))
ax1[2,1].imshow(whiteSlices[:,:,:,snapIndexes[5]])
ax1[2,1].set_title("Step = "+str(snapIndexes[5]))

ax2 = subfigs[1].subplots(2,1)
subfigs[1].delaxes(ax2[0])
tissue.plotEvolution(ax2[1])

plt.savefig("no_treatment_cell_growth.pdf",format="pdf", bbox_inches="tight")





width = 150
height = 150

centerX = int(width/2)
centerY = int(width/2)

tissue = Tissue(width, height)

#Inicializamos el tejido
tissue.addProliferatingCell(centerX, centerY, False,0)
tissue.addProliferatingCell(centerX + 1,centerY, False,0)
tissue.addProliferatingCell(centerX - 1, centerY, False,0)
tissue.addProliferatingCell(centerX, centerY + 1, False,0)
tissue.addProliferatingCell(centerX, centerY - 1, False,0)

nSteps = 300
tissue.evolveWithMovieInitially(nSteps, True)



#Primero vamos a definir los parámetros de la terapia 
#Día en que se dará la terapia
startDay = 300
#Factor de muerte para las células que se encuentran en fase G0 
g0Gamma = 0.05
#Peso del término lineal en la exponencial con que se calcula la probabilidad de muerte
alpha = 0.1
#Peso del término cuadrático en la exponencial con que se calcula la probabilidad de muerte
beta = 0.05
#Pasos de la simulación que deben pasar para que se cumpla un ciclo celular
cycleTime = tissue.cellCycleTime
#Dosis de la radiación
dose = 1
#Umbral de oxígeno que bajo el que las células tendrán más probabilidades de ser afectadas
thresholdOxygen = 0.35
#En este tratamiento al principio de la simulación las células se ven poco afectadas, pero después toma efecto con más potencia el tratamiento
#delayTime, define el número de pasos en que se comenzará a afectar fuertemente el tejido
delayTime = 50
#Probabilidades de morir al inicio de la simulación y en la parte final 
initMitoticProb = 0.2
finalMitoticProb = 0.5

radiationTherapy = Therapy(TherapyType.RADIOTHERAPY, startDay, g0Gamma, alpha, beta, cycleTime, dose, thresholdOxygen, delayTime, initMitoticProb, finalMitoticProb)


tissue.addTherapy(radiationTherapy)


tumorSlices = tissue.evolutionMovie

proliferatingPositions = np.zeros((height, width))
finalSlice = tumorSlices[:,:,:,-1]
for i in range(0,height):
    for j in range(0,width):
        if((finalSlice[i,j,:] == CellType.PROLIFERATING.value).all()):
            proliferatingPositions[i,j] = 1

angiogenesisModel = AngiogenesisModel(width, height)
angiogenesisModel.setInitialConcentrations(proliferatingPositions)
tipCellLocations = np.zeros((height, width))
for i in range(1, width - 1):
    if(i%10 == 0):
        tipCellLocations[1,i] = 1
        tipCellLocations[height-2,i] = 1
        tipCellLocations[i,1] = 1
        tipCellLocations[i, width-2] = 1

angiogenesisModel.setTipCells(tipCellLocations)

plt.figure()
plt.imshow(angiogenesisModel.cInitial)


nSteps = 100
angiogenesisModel.evolveSystem(nSteps)

tissue.initializeNutrientWithBloodVessels(angiogenesisModel.occupiedCells)

tissue.continueTissueEvolutionWithMovie(300, True)


nSnapshots = 6
tumorSlices = tissue.evolutionMovie
nSlices = np.size(tumorSlices, 3)
whiteSlices = np.ones((np.size(tumorSlices,0), np.size(tumorSlices,1), np.size(tumorSlices, 2), np.size(tumorSlices,3)))

for i in range(0,np.size(tumorSlices,0)):
    for j in range(0,np.size(tumorSlices,1)):
        for k in range(0,nSlices):
            if((tumorSlices[i,j,:,k] != np.array([0,0,0])).all()):
                whiteSlices[i,j,:,k] = tumorSlices[i,j,:,k]

deltaSlices = np.floor(nSlices/(nSnapshots-1));
snapIndexes = []
for i in range(0,nSnapshots):
    index = i*deltaSlices
    snapIndexes.append(int(index))
    
fig = plt.figure(figsize = (11,8),constrained_layout=True)
subfigs = fig.subfigures(1, 2, wspace=0.07, width_ratios=[1, 1.4])

ax1 = subfigs[0].subplots(3,2)
ax1[0,0].imshow(whiteSlices[:,:,:,snapIndexes[0]])
ax1[0,0].set_title("Step = "+str(snapIndexes[0]))
ax1[0,1].imshow(whiteSlices[:,:,:,snapIndexes[1]])
ax1[0,1].set_title("Step = "+str(snapIndexes[1]))
ax1[1,0].imshow(whiteSlices[:,:,:,snapIndexes[2]])
ax1[1,0].set_title("Step = "+str(snapIndexes[2]))
ax1[1,1].imshow(whiteSlices[:,:,:,snapIndexes[3]])
ax1[1,1].set_title("Step = "+str(snapIndexes[3]))
ax1[2,0].imshow(whiteSlices[:,:,:,snapIndexes[4]])
ax1[2,0].set_title("Step = "+str(snapIndexes[4]))
ax1[2,1].imshow(whiteSlices[:,:,:,snapIndexes[5]])
ax1[2,1].set_title("Step = "+str(snapIndexes[5]))

ax2 = subfigs[1].subplots(2,1)
subfigs[1].delaxes(ax2[0])
tissue.plotEvolution(ax2[1])

plt.savefig("no_treatment_cell_growth.pdf",format="pdf", bbox_inches="tight")





width = 150
height = 150

centerX = int(width/2)
centerY = int(width/2)

tissue = Tissue(width, height)

#Inicializamos el tejido
tissue.addProliferatingCell(centerX, centerY, False,0)
tissue.addProliferatingCell(centerX + 1,centerY, False,0)
tissue.addProliferatingCell(centerX - 1, centerY, False,0)
tissue.addProliferatingCell(centerX, centerY + 1, False,0)
tissue.addProliferatingCell(centerX, centerY - 1, False,0)

nSteps = 300
tissue.evolveWithMovieInitially(nSteps, True)


startDay = 300
#Resistencias a tratamiento
treatmentResistances = {}
treatmentResistances[CellType.PROLIFERATING] = 0.1
treatmentResistances[CellType.COMPLEX] = 0.05
treatmentResistances[CellType.DEAD] = 1
treatmentResistances[CellType.NECROTIC] = 1
#Tasas de muerte
killRates = {}
killRates[CellType.PROLIFERATING] = 0.8
killRates[CellType.COMPLEX] = 0
killRates[CellType.DEAD] = 0
killRates[CellType.NECROTIC] = 0
#Coeficientes de atenuación (no se que son así que los haré igual a 0.5 todos)
attenuationCoefficients = {}
attenuationCoefficients[CellType.PROLIFERATING] = 0.5
attenuationCoefficients[CellType.COMPLEX] = 0.5
attenuationCoefficients[CellType.DEAD] = 0
attenuationCoefficients[CellType.NECROTIC] = 0
#Pasos de tratamiento
treatmentSteps = nSteps - startDay
#Constante de tiempo 
tau = 1
#Factor de farmacodinámica 
PK = 1
widthAreaTreatment = width
heightAreaTreatment = height
initialMedConcentration = 2
resistanceCellsRatio = 0.05
medAbsorptionCells = 0
medDifussionConstant = 0.35
applicationSteps = 50

chemoTherapy = Therapy(TherapyType.CHEMOTHERAPY, startDay, treatmentResistances, killRates, attenuationCoefficients, treatmentSteps, tau, PK, widthAreaTreatment, heightAreaTreatment, initialMedConcentration, resistanceCellsRatio, medAbsorptionCells, medDifussionConstant, applicationSteps)
tissue.addTherapy(chemoTherapy)



tumorSlices = tissue.evolutionMovie

proliferatingPositions = np.zeros((height, width))
finalSlice = tumorSlices[:,:,:,-1]
for i in range(0,height):
    for j in range(0,width):
        if((finalSlice[i,j,:] == CellType.PROLIFERATING.value).all()):
            proliferatingPositions[i,j] = 1

angiogenesisModel = AngiogenesisModel(width, height)
angiogenesisModel.setInitialConcentrations(proliferatingPositions)
tipCellLocations = np.zeros((height, width))
for i in range(1, width - 1):
    if(i%10 == 0):
        tipCellLocations[1,i] = 1
        tipCellLocations[height-2,i] = 1
        tipCellLocations[i,1] = 1
        tipCellLocations[i, width-2] = 1

angiogenesisModel.setTipCells(tipCellLocations)

plt.figure()
plt.imshow(angiogenesisModel.cInitial)

nSteps = 100
angiogenesisModel.evolveSystem(nSteps)

tissue.initializeNutrientWithBloodVessels(angiogenesisModel.occupiedCells)
tissue.initializeChemoWithBloodVessels(angiogenesisModel.occupiedCells)
tissue.continueTissueEvolutionWithMovie(300, True)


nSnapshots = 6
tumorSlices = tissue.evolutionMovie
nSlices = np.size(tumorSlices, 3)
whiteSlices = np.ones((np.size(tumorSlices,0), np.size(tumorSlices,1), np.size(tumorSlices, 2), np.size(tumorSlices,3)))

for i in range(0,np.size(tumorSlices,0)):
    for j in range(0,np.size(tumorSlices,1)):
        for k in range(0,nSlices):
            if((tumorSlices[i,j,:,k] != np.array([0,0,0])).all()):
                whiteSlices[i,j,:,k] = tumorSlices[i,j,:,k]

deltaSlices = np.floor(nSlices/(nSnapshots-1));
snapIndexes = []
for i in range(0,nSnapshots):
    index = i*deltaSlices
    snapIndexes.append(int(index))
    
fig = plt.figure(figsize = (11,8),constrained_layout=True)
subfigs = fig.subfigures(1, 2, wspace=0.07, width_ratios=[1, 1.4])

ax1 = subfigs[0].subplots(3,2)
ax1[0,0].imshow(whiteSlices[:,:,:,snapIndexes[0]])
ax1[0,0].set_title("Step = "+str(snapIndexes[0]))
ax1[0,1].imshow(whiteSlices[:,:,:,snapIndexes[1]])
ax1[0,1].set_title("Step = "+str(snapIndexes[1]))
ax1[1,0].imshow(whiteSlices[:,:,:,snapIndexes[2]])
ax1[1,0].set_title("Step = "+str(snapIndexes[2]))
ax1[1,1].imshow(whiteSlices[:,:,:,snapIndexes[3]])
ax1[1,1].set_title("Step = "+str(snapIndexes[3]))
ax1[2,0].imshow(whiteSlices[:,:,:,snapIndexes[4]])
ax1[2,0].set_title("Step = "+str(snapIndexes[4]))
ax1[2,1].imshow(whiteSlices[:,:,:,snapIndexes[5]])
ax1[2,1].set_title("Step = "+str(snapIndexes[5]))

ax2 = subfigs[1].subplots(2,1)
subfigs[1].delaxes(ax2[0])
tissue.plotEvolution(ax2[1])

plt.savefig("no_treatment_cell_growth.pdf",format="pdf", bbox_inches="tight")





width = 150
height = 150

centerX = int(width/2)
centerY = int(width/2)

tissue = Tissue(width, height)

#Inicializamos el tejido
tissue.addProliferatingCell(centerX, centerY, False,0)
tissue.addProliferatingCell(centerX + 1,centerY, False,0)
tissue.addProliferatingCell(centerX - 1, centerY, False,0)
tissue.addProliferatingCell(centerX, centerY + 1, False,0)
tissue.addProliferatingCell(centerX, centerY - 1, False,0)

nSteps = 300
tissue.evolveWithMovieInitially(nSteps, True)


tartDay = 300
therapySteps = 250
rProlifFinal = 0.65
rBindingFinal = 0.001
rEscapeFinal = 0.001
rLysisFinal  = 0.9
rDecayFinal = 0.35
rProlifInitial = 0.85
rBindingInitial = 0.1
rEscapeInitial = 0.5
rLysisInitial = 0.35
rDecayInitial = 0.35

immunoTherapy = Therapy(TherapyType.IMMUNOTHERAPY, startDay, therapySteps, rProlifFinal, rBindingFinal, rEscapeFinal, rLysisFinal, rDecayFinal, rProlifInitial, rBindingInitial, rEscapeInitial, rLysisInitial, rDecayInitial)
tissue.addTherapy(immunoTherapy)



tumorSlices = tissue.evolutionMovie

proliferatingPositions = np.zeros((height, width))
finalSlice = tumorSlices[:,:,:,-1]
for i in range(0,height):
    for j in range(0,width):
        if((finalSlice[i,j,:] == CellType.PROLIFERATING.value).all()):
            proliferatingPositions[i,j] = 1

angiogenesisModel = AngiogenesisModel(width, height)
angiogenesisModel.setInitialConcentrations(proliferatingPositions)
tipCellLocations = np.zeros((height, width))
for i in range(1, width - 1):
    if(i%10 == 0):
        tipCellLocations[1,i] = 1
        tipCellLocations[height-2,i] = 1
        tipCellLocations[i,1] = 1
        tipCellLocations[i, width-2] = 1

angiogenesisModel.setTipCells(tipCellLocations)

plt.figure()
plt.imshow(angiogenesisModel.cInitial)


nSteps = 100
angiogenesisModel.evolveSystem(nSteps)

tissue.initializeNutrientWithBloodVessels(angiogenesisModel.occupiedCells)

tissue.continueTissueEvolutionWithMovie(300, True)


nSnapshots = 6
tumorSlices = tissue.evolutionMovie
nSlices = np.size(tumorSlices, 3)
whiteSlices = np.ones((np.size(tumorSlices,0), np.size(tumorSlices,1), np.size(tumorSlices, 2), np.size(tumorSlices,3)))

for i in range(0,np.size(tumorSlices,0)):
    for j in range(0,np.size(tumorSlices,1)):
        for k in range(0,nSlices):
            if((tumorSlices[i,j,:,k] != np.array([0,0,0])).all()):
                whiteSlices[i,j,:,k] = tumorSlices[i,j,:,k]

deltaSlices = np.floor(nSlices/(nSnapshots-1));
snapIndexes = []
for i in range(0,nSnapshots):
    index = i*deltaSlices
    snapIndexes.append(int(index))
    
fig = plt.figure(figsize = (11,8),constrained_layout=True)
subfigs = fig.subfigures(1, 2, wspace=0.07, width_ratios=[1, 1.4])

ax1 = subfigs[0].subplots(3,2)
ax1[0,0].imshow(whiteSlices[:,:,:,snapIndexes[0]])
ax1[0,0].set_title("Step = "+str(snapIndexes[0]))
ax1[0,1].imshow(whiteSlices[:,:,:,snapIndexes[1]])
ax1[0,1].set_title("Step = "+str(snapIndexes[1]))
ax1[1,0].imshow(whiteSlices[:,:,:,snapIndexes[2]])
ax1[1,0].set_title("Step = "+str(snapIndexes[2]))
ax1[1,1].imshow(whiteSlices[:,:,:,snapIndexes[3]])
ax1[1,1].set_title("Step = "+str(snapIndexes[3]))
ax1[2,0].imshow(whiteSlices[:,:,:,snapIndexes[4]])
ax1[2,0].set_title("Step = "+str(snapIndexes[4]))
ax1[2,1].imshow(whiteSlices[:,:,:,snapIndexes[5]])
ax1[2,1].set_title("Step = "+str(snapIndexes[5]))

ax2 = subfigs[1].subplots(2,1)
subfigs[1].delaxes(ax2[0])
tissue.plotEvolution(ax2[1])

plt.savefig("no_treatment_cell_growth.pdf",format="pdf", bbox_inches="tight")





import numpy as np
a = np.array([[1,2,3],[1,5,3], [3,4,10]])


np.max(np.max(a))



