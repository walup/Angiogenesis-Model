





from TumorModel import Tissue
import numpy as np
import matplotlib.pyplot as plt
from AngiogenesisModel import AngiogenesisModel
from TumorModel import CellType





automatonWidth = 150
automatonHeight = 150
centerX = int(automatonWidth/2)
centerY = int(automatonHeight/2)


#Initialize tissue
tissue = Tissue(automatonWidth,automatonHeight)

#Add proliferating cells in the center of the automaton
tissue.addProliferatingCell(centerX, centerY, False, 0)
tissue.addProliferatingCell(centerX + 1, centerY, False, 0)
tissue.addProliferatingCell(centerX - 1, centerY, False, 0)
tissue.addProliferatingCell(centerX, centerY - 1, False, 0)
tissue.addProliferatingCell(centerX, centerY + 1, False, 0)

plt.figure()
plt.imshow(tissue.getPicture(True))



#Evolve 300 steps  without vasculature
nEvolutionSteps = 300
tissue.evolveWithMovieInitially(nEvolutionSteps, True)

plt.figure()
plt.imshow(tissue.getPicture(True))


#Now let's save the instance
fileName = "tumor_instance.pkl"
tissue.exportTumorInstance(fileName)


#Let's try opening it 

#Create a tissue object skeleton
tissue = Tissue(150,150)
#Open the object instance file
tissue = tissue.importTumorInstance(fileName)
plt.figure()
plt.imshow(tissue.getPicture(True))









#To prepare the blood vessel network we first have to indicate in a matrix those positions that are occupied
#with proliferating cells

tumorSlices = tissue.evolutionMovie

proliferatingPositions = np.zeros((automatonHeight, automatonWidth))
finalSlice = tumorSlices[:,:,:,-1]
for i in range(0,automatonHeight):
    for j in range(0,automatonWidth):
        if((finalSlice[i,j,:] == CellType.PROLIFERATING.value).all()):
            proliferatingPositions[i,j] = 1

#Now we can create our model
bloodVesselNet = AngiogenesisModel(automatonWidth, automatonHeight)
bloodVesselNet.setInitialConcentrations(proliferatingPositions)

#Tipcells will start in some portions of the automaton borders
tipCellLocations = np.zeros((automatonHeight, automatonWidth))

for i in range(0, automatonWidth):
    #Every 10 positions in the automaton border set a tip cell
    if(i % 20 == 0):
        tipCellLocations[1,i] = 1
        tipCellLocations[automatonHeight-2,i] = 1
        tipCellLocations[i,1] = 1
        tipCellLocations[i,automatonWidth-2] = 1
        
#Set the tip cells
bloodVesselNet.setTipCells(tipCellLocations)

#Evolve the blood vessel network
nEvolutionSteps = 200
bloodVesselNet.evolveSystem(nEvolutionSteps)


plt.figure()
plt.imshow(bloodVesselNet.getPicture(tipCellLocations, proliferatingPositions, bloodVesselNet.occupiedCells))


#Save the blood vessel network
fileName = "angiogenesis_instance_big.pkl"
bloodVesselNet.saveBloodVesselNetworkInstance(fileName)


#Open the blood vessel network
bloodVesselNet = AngiogenesisModel(150, 150)
bloodVesselNet = bloodVesselNet.openBloodVesselNetworkInstance(fileName)


plt.figure()
plt.imshow(bloodVesselNet.getPicture(tipCellLocations, proliferatingPositions, bloodVesselNet.occupiedCells))



